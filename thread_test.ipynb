{
 "cells": [
  {
   "cell_type": "code",
   "execution_count": 13,
   "metadata": {},
   "outputs": [],
   "source": [
    "from random import choice\n",
    "val = choice(list(range(6,20, 2)))"
   ]
  },
  {
   "cell_type": "code",
   "execution_count": 44,
   "metadata": {},
   "outputs": [],
   "source": [
    "import logging\n",
    "\n",
    "# Create a custom logger\n",
    "logger = logging.getLogger('threading')\n",
    "\n",
    "# Set the default log level (optional, can be overridden by handlers)\n",
    "logger.setLevel(logging.DEBUG)\n",
    "\n",
    "# Create a console handler\n",
    "console_handler = logging.StreamHandler()\n",
    "console_handler.setLevel(logging.INFO)\n",
    "\n",
    "# Create a formatter\n",
    "formatter = logging.Formatter('%(asctime)s - %(name)s - %(levelname)s - %(message)s')\n",
    "\n",
    "# Add the formatter to the handler\n",
    "console_handler.setFormatter(formatter)\n",
    "\n",
    "# Add the handler to the logger\n",
    "logger.addHandler(console_handler)"
   ]
  },
  {
   "cell_type": "code",
   "execution_count": null,
   "metadata": {},
   "outputs": [],
   "source": [
    "for _ in range(100):\n",
    "    val = choice(list(range(5,10, 1)))\n",
    "    print (val)"
   ]
  },
  {
   "cell_type": "code",
   "execution_count": 49,
   "metadata": {},
   "outputs": [],
   "source": [
    "import time\n",
    "from random import choice\n",
    "def process(id):\n",
    "    ch = choice([3, 6, 9])\n",
    "    for slp in range(ch+1):\n",
    "        time.sleep(1)\n",
    "        logger.info (f\"thread {id} with slp {ch} working\")\n",
    "    logger.info (f\"completed thread {id}\")\n",
    "    return f'Done task {id}'"
   ]
  },
  {
   "cell_type": "code",
   "execution_count": 50,
   "metadata": {},
   "outputs": [
    {
     "name": "stderr",
     "output_type": "stream",
     "text": [
      "2024-09-12 10:59:00,705 - threading - INFO - thread 1 with slp 6 working\n",
      "2024-09-12 10:59:00,706 - threading - INFO - thread 2 with slp 3 working\n",
      "2024-09-12 10:59:00,706 - threading - INFO - thread 3 with slp 3 working\n",
      "2024-09-12 10:59:00,707 - threading - INFO - thread 4 with slp 6 working\n",
      "2024-09-12 10:59:01,709 - threading - INFO - thread 1 with slp 6 working\n",
      "2024-09-12 10:59:01,711 - threading - INFO - thread 2 with slp 3 working\n",
      "2024-09-12 10:59:01,713 - threading - INFO - thread 3 with slp 3 working\n",
      "2024-09-12 10:59:01,717 - threading - INFO - thread 4 with slp 6 working\n",
      "2024-09-12 10:59:02,712 - threading - INFO - thread 1 with slp 6 working\n",
      "2024-09-12 10:59:02,715 - threading - INFO - thread 2 with slp 3 working\n",
      "2024-09-12 10:59:02,718 - threading - INFO - thread 3 with slp 3 working\n",
      "2024-09-12 10:59:02,720 - threading - INFO - thread 4 with slp 6 working\n",
      "2024-09-12 10:59:03,716 - threading - INFO - thread 1 with slp 6 working\n",
      "2024-09-12 10:59:03,718 - threading - INFO - thread 2 with slp 3 working\n",
      "2024-09-12 10:59:03,719 - threading - INFO - completed thread 2\n",
      "2024-09-12 10:59:03,721 - threading - INFO - thread 3 with slp 3 working\n",
      "2024-09-12 10:59:03,723 - threading - INFO - thread 4 with slp 6 working\n",
      "2024-09-12 10:59:03,725 - threading - INFO - completed thread 3\n"
     ]
    },
    {
     "name": "stdout",
     "output_type": "stream",
     "text": [
      "Task result: Done task 2\n",
      "Task result: Done task 3\n"
     ]
    },
    {
     "name": "stderr",
     "output_type": "stream",
     "text": [
      "2024-09-12 10:59:04,719 - threading - INFO - thread 1 with slp 6 working\n",
      "2024-09-12 10:59:04,722 - threading - INFO - thread 5 with slp 3 working\n",
      "2024-09-12 10:59:04,727 - threading - INFO - thread 4 with slp 6 working\n",
      "2024-09-12 10:59:04,729 - threading - INFO - thread 6 with slp 9 working\n",
      "2024-09-12 10:59:05,722 - threading - INFO - thread 1 with slp 6 working\n",
      "2024-09-12 10:59:05,724 - threading - INFO - thread 5 with slp 3 working\n",
      "2024-09-12 10:59:05,731 - threading - INFO - thread 4 with slp 6 working\n",
      "2024-09-12 10:59:05,734 - threading - INFO - thread 6 with slp 9 working\n",
      "2024-09-12 10:59:06,724 - threading - INFO - thread 1 with slp 6 working\n",
      "2024-09-12 10:59:06,725 - threading - INFO - completed thread 1\n",
      "2024-09-12 10:59:06,728 - threading - INFO - thread 5 with slp 3 working\n",
      "2024-09-12 10:59:06,733 - threading - INFO - thread 4 with slp 6 working\n",
      "2024-09-12 10:59:06,735 - threading - INFO - completed thread 4\n",
      "2024-09-12 10:59:06,737 - threading - INFO - thread 6 with slp 9 working\n"
     ]
    },
    {
     "name": "stdout",
     "output_type": "stream",
     "text": [
      "Task result: Done task 1\n",
      "Task result: Done task 4\n"
     ]
    },
    {
     "name": "stderr",
     "output_type": "stream",
     "text": [
      "2024-09-12 10:59:07,729 - threading - INFO - thread 7 with slp 9 working\n",
      "2024-09-12 10:59:07,731 - threading - INFO - thread 5 with slp 3 working\n",
      "2024-09-12 10:59:07,732 - threading - INFO - completed thread 5\n",
      "2024-09-12 10:59:07,739 - threading - INFO - thread 8 with slp 3 working\n",
      "2024-09-12 10:59:07,741 - threading - INFO - thread 6 with slp 9 working\n"
     ]
    },
    {
     "name": "stdout",
     "output_type": "stream",
     "text": [
      "Task result: Done task 5\n"
     ]
    },
    {
     "name": "stderr",
     "output_type": "stream",
     "text": [
      "2024-09-12 10:59:08,731 - threading - INFO - thread 7 with slp 9 working\n",
      "2024-09-12 10:59:08,735 - threading - INFO - thread 9 with slp 9 working\n",
      "2024-09-12 10:59:08,741 - threading - INFO - thread 8 with slp 3 working\n",
      "2024-09-12 10:59:08,744 - threading - INFO - thread 6 with slp 9 working\n",
      "2024-09-12 10:59:09,734 - threading - INFO - thread 7 with slp 9 working\n",
      "2024-09-12 10:59:09,738 - threading - INFO - thread 9 with slp 9 working\n",
      "2024-09-12 10:59:09,743 - threading - INFO - thread 8 with slp 3 working\n",
      "2024-09-12 10:59:09,747 - threading - INFO - thread 6 with slp 9 working\n",
      "2024-09-12 10:59:10,736 - threading - INFO - thread 7 with slp 9 working\n",
      "2024-09-12 10:59:10,741 - threading - INFO - thread 9 with slp 9 working\n",
      "2024-09-12 10:59:10,746 - threading - INFO - thread 8 with slp 3 working\n",
      "2024-09-12 10:59:10,748 - threading - INFO - completed thread 8\n",
      "2024-09-12 10:59:10,751 - threading - INFO - thread 6 with slp 9 working\n"
     ]
    },
    {
     "name": "stdout",
     "output_type": "stream",
     "text": [
      "Task result: Done task 8\n"
     ]
    },
    {
     "name": "stderr",
     "output_type": "stream",
     "text": [
      "2024-09-12 10:59:11,739 - threading - INFO - thread 7 with slp 9 working\n",
      "2024-09-12 10:59:11,744 - threading - INFO - thread 9 with slp 9 working\n",
      "2024-09-12 10:59:11,750 - threading - INFO - thread 10 with slp 6 working\n",
      "2024-09-12 10:59:11,755 - threading - INFO - thread 6 with slp 9 working\n",
      "2024-09-12 10:59:12,742 - threading - INFO - thread 7 with slp 9 working\n",
      "2024-09-12 10:59:12,747 - threading - INFO - thread 9 with slp 9 working\n",
      "2024-09-12 10:59:12,753 - threading - INFO - thread 10 with slp 6 working\n",
      "2024-09-12 10:59:12,758 - threading - INFO - thread 6 with slp 9 working\n",
      "2024-09-12 10:59:13,746 - threading - INFO - thread 7 with slp 9 working\n",
      "2024-09-12 10:59:13,750 - threading - INFO - thread 9 with slp 9 working\n",
      "2024-09-12 10:59:13,755 - threading - INFO - thread 10 with slp 6 working\n",
      "2024-09-12 10:59:13,761 - threading - INFO - thread 6 with slp 9 working\n",
      "2024-09-12 10:59:13,763 - threading - INFO - completed thread 6\n"
     ]
    },
    {
     "name": "stdout",
     "output_type": "stream",
     "text": [
      "Task result: Done task 6\n"
     ]
    },
    {
     "name": "stderr",
     "output_type": "stream",
     "text": [
      "2024-09-12 10:59:14,748 - threading - INFO - thread 7 with slp 9 working\n",
      "2024-09-12 10:59:14,753 - threading - INFO - thread 9 with slp 9 working\n",
      "2024-09-12 10:59:14,758 - threading - INFO - thread 10 with slp 6 working\n",
      "2024-09-12 10:59:14,767 - threading - INFO - thread 11 with slp 9 working\n",
      "2024-09-12 10:59:15,751 - threading - INFO - thread 7 with slp 9 working\n",
      "2024-09-12 10:59:15,756 - threading - INFO - thread 9 with slp 9 working\n",
      "2024-09-12 10:59:15,761 - threading - INFO - thread 10 with slp 6 working\n",
      "2024-09-12 10:59:15,771 - threading - INFO - thread 11 with slp 9 working\n",
      "2024-09-12 10:59:16,754 - threading - INFO - thread 7 with slp 9 working\n",
      "2024-09-12 10:59:16,756 - threading - INFO - completed thread 7\n",
      "2024-09-12 10:59:16,759 - threading - INFO - thread 9 with slp 9 working\n",
      "2024-09-12 10:59:16,763 - threading - INFO - thread 10 with slp 6 working\n",
      "2024-09-12 10:59:16,774 - threading - INFO - thread 11 with slp 9 working\n"
     ]
    },
    {
     "name": "stdout",
     "output_type": "stream",
     "text": [
      "Task result: Done task 7\n"
     ]
    },
    {
     "name": "stderr",
     "output_type": "stream",
     "text": [
      "2024-09-12 10:59:17,759 - threading - INFO - thread 12 with slp 6 working\n",
      "2024-09-12 10:59:17,762 - threading - INFO - thread 9 with slp 9 working\n",
      "2024-09-12 10:59:17,764 - threading - INFO - completed thread 9\n",
      "2024-09-12 10:59:17,766 - threading - INFO - thread 10 with slp 6 working\n",
      "2024-09-12 10:59:17,769 - threading - INFO - completed thread 10\n",
      "2024-09-12 10:59:17,777 - threading - INFO - thread 11 with slp 9 working\n"
     ]
    },
    {
     "name": "stdout",
     "output_type": "stream",
     "text": [
      "Task result: Done task 9\n",
      "Task result: Done task 10\n"
     ]
    },
    {
     "name": "stderr",
     "output_type": "stream",
     "text": [
      "2024-09-12 10:59:18,762 - threading - INFO - thread 12 with slp 6 working\n",
      "2024-09-12 10:59:18,780 - threading - INFO - thread 11 with slp 9 working\n",
      "2024-09-12 10:59:19,764 - threading - INFO - thread 12 with slp 6 working\n",
      "2024-09-12 10:59:19,782 - threading - INFO - thread 11 with slp 9 working\n",
      "2024-09-12 10:59:20,769 - threading - INFO - thread 12 with slp 6 working\n",
      "2024-09-12 10:59:20,786 - threading - INFO - thread 11 with slp 9 working\n",
      "2024-09-12 10:59:21,772 - threading - INFO - thread 12 with slp 6 working\n",
      "2024-09-12 10:59:21,789 - threading - INFO - thread 11 with slp 9 working\n",
      "2024-09-12 10:59:22,775 - threading - INFO - thread 12 with slp 6 working\n",
      "2024-09-12 10:59:22,792 - threading - INFO - thread 11 with slp 9 working\n",
      "2024-09-12 10:59:23,778 - threading - INFO - thread 12 with slp 6 working\n",
      "2024-09-12 10:59:23,779 - threading - INFO - completed thread 12\n",
      "2024-09-12 10:59:23,795 - threading - INFO - thread 11 with slp 9 working\n",
      "2024-09-12 10:59:23,797 - threading - INFO - completed thread 11\n"
     ]
    },
    {
     "name": "stdout",
     "output_type": "stream",
     "text": [
      "Task result: Done task 12\n",
      "Task result: Done task 11\n"
     ]
    }
   ],
   "source": [
    "import concurrent.futures as cf\n",
    "\n",
    "with cf.ThreadPoolExecutor(max_workers=4) as executor:\n",
    "    # Submitting tasks to the thread pool\n",
    "    futures = [executor.submit(process, i) for i in range(1,13)]\n",
    "\n",
    "    # Collecting results once threads complete\n",
    "    for future in cf.as_completed(futures):\n",
    "        print(f\"Task result: {future.result()}\")"
   ]
  }
 ],
 "metadata": {
  "kernelspec": {
   "display_name": "Python 3",
   "language": "python",
   "name": "python3"
  },
  "language_info": {
   "codemirror_mode": {
    "name": "ipython",
    "version": 3
   },
   "file_extension": ".py",
   "mimetype": "text/x-python",
   "name": "python",
   "nbconvert_exporter": "python",
   "pygments_lexer": "ipython3",
   "version": "3.10.2"
  }
 },
 "nbformat": 4,
 "nbformat_minor": 2
}
